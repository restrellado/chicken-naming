{
 "cells": [
  {
   "cell_type": "markdown",
   "metadata": {},
   "source": [
    "A script to get a list of names for chickens"
   ]
  },
  {
   "cell_type": "code",
   "execution_count": 3,
   "metadata": {
    "collapsed": true
   },
   "outputs": [],
   "source": [
    "n = 25 # number of chickens to be named"
   ]
  },
  {
   "cell_type": "code",
   "execution_count": 30,
   "metadata": {
    "collapsed": false
   },
   "outputs": [],
   "source": [
    "# Import a list of chicken names\n",
    "import csv\n",
    "\n",
    "f = open('chickennames.csv')\n",
    "csv_f = csv.reader(f)\n",
    "\n",
    "names_list = list(csv_f)[0]"
   ]
  },
  {
   "cell_type": "code",
   "execution_count": 68,
   "metadata": {
    "collapsed": true
   },
   "outputs": [],
   "source": [
    "# Jessie has particular names she wants to make sure are always included\n",
    "jessie_list = ['Yellow', 'Cheep', 'Snowflake', 'Summer', 'Clover', 'Ginko', 'Snuggles']"
   ]
  },
  {
   "cell_type": "code",
   "execution_count": 69,
   "metadata": {
    "collapsed": false
   },
   "outputs": [],
   "source": [
    "# The number of names we'll need to randomly select\n",
    "# The number of chickens minus the number of 'fixed' names from Jessie's list\n",
    "num_names = n - len(jessie_list)"
   ]
  },
  {
   "cell_type": "code",
   "execution_count": 70,
   "metadata": {
    "collapsed": true
   },
   "outputs": [],
   "source": [
    "# Create a function that shuffles the list, picks random names and creates a full list of\n",
    "# the fixed names from Jessie's list and the random names\n",
    "import random\n",
    "\n",
    "def name_chickens(nlist):\n",
    "    random.shuffle(nlist)\n",
    "    random_names = (nlist[:num_names])\n",
    "    full_list = jessie_list + random_names\n",
    "    print (full_list)\n",
    "    return"
   ]
  },
  {
   "cell_type": "code",
   "execution_count": 71,
   "metadata": {
    "collapsed": false
   },
   "outputs": [
    {
     "name": "stdout",
     "output_type": "stream",
     "text": [
      "['Yellow', 'Cheep', 'Snowflake', 'Summer', 'Clover', 'Ginko', 'Snuggles', ' Mary Poopins', ' Muffs', ' Reese & Puff', ' Marge', ' Aflac', ' Violet', ' Clover', ' Cookies & Cream', ' Ava Chanel', ' Daliah', ' Buffy', ' Pearl', ' Clarisse', ' Colton', ' Mumble', ' Snooki', ' Meshach', ' Seven']\n"
     ]
    }
   ],
   "source": [
    "name_chickens(names_list)"
   ]
  },
  {
   "cell_type": "code",
   "execution_count": 73,
   "metadata": {
    "collapsed": false
   },
   "outputs": [
    {
     "name": "stdout",
     "output_type": "stream",
     "text": [
      "['Yellow', 'Cheep', 'Snowflake', 'Summer', 'Clover', 'Ginko', 'Snuggles', ' Nutmeg', ' Clarisse', ' Rose', ' Fancy Feet', ' Vigorous', ' Burger', ' Hope', ' Buffy', ' Salt & Pepper', ' Miss Prissy', ' Angel', ' BelmontBenipe', ' Drumstick', ' Black Beauty', ' Albert ', ' Star', ' Flo', ' Featherball']\n"
     ]
    }
   ],
   "source": [
    "# Rerun the 'name_chickens' function to get a new list of chicken names.\n",
    "name_chickens(names_list)"
   ]
  },
  {
   "cell_type": "code",
   "execution_count": null,
   "metadata": {
    "collapsed": true
   },
   "outputs": [],
   "source": []
  }
 ],
 "metadata": {
  "kernelspec": {
   "display_name": "Python 3",
   "language": "python",
   "name": "python3"
  },
  "language_info": {
   "codemirror_mode": {
    "name": "ipython",
    "version": 3
   },
   "file_extension": ".py",
   "mimetype": "text/x-python",
   "name": "python",
   "nbconvert_exporter": "python",
   "pygments_lexer": "ipython3",
   "version": "3.5.1"
  }
 },
 "nbformat": 4,
 "nbformat_minor": 0
}
