{
 "cells": [
  {
   "cell_type": "markdown",
   "metadata": {},
   "source": [
    "## Chicken naming\n",
    "\n",
    "A script to get a list of names for chickens"
   ]
  },
  {
   "cell_type": "code",
   "execution_count": 77,
   "metadata": {
    "collapsed": true
   },
   "outputs": [],
   "source": [
    "# Import libraries\n",
    "import csv\n",
    "import random"
   ]
  },
  {
   "cell_type": "code",
   "execution_count": 78,
   "metadata": {
    "collapsed": true
   },
   "outputs": [],
   "source": [
    "# Enter the number of chickens to be named\n",
    "n = 25 "
   ]
  },
  {
   "cell_type": "code",
   "execution_count": 79,
   "metadata": {
    "collapsed": true
   },
   "outputs": [],
   "source": [
    "# The name of the csv file with the chicken names\n",
    "namesfile = 'chickennames.csv'"
   ]
  },
  {
   "cell_type": "code",
   "execution_count": 68,
   "metadata": {
    "collapsed": true
   },
   "outputs": [],
   "source": [
    "# Jessie has particular names she wants to make sure are always included\n",
    "jessie_list = ['Yellow', 'Cheep', 'Snowflake', 'Summer', 'Clover']"
   ]
  },
  {
   "cell_type": "code",
   "execution_count": 88,
   "metadata": {
    "collapsed": false
   },
   "outputs": [],
   "source": [
    "# Import the list of chicken names and put into a list\n",
    "# Use the csv library\n",
    "\n",
    "f = open(namesfile)\n",
    "csv_f = csv.reader(f)\n",
    "\n",
    "names_list = list(csv_f)[0]\n",
    "\n",
    "# strip leading and trailing whitespaces from the names\n",
    "names_list = [x.strip(' ') for x in names_list]"
   ]
  },
  {
   "cell_type": "code",
   "execution_count": 81,
   "metadata": {
    "collapsed": true
   },
   "outputs": [],
   "source": [
    "# Create a function that shuffles the list and takes the first n names\n",
    "\n",
    "def name_chickens(nlist):\n",
    "    random.shuffle(nlist)\n",
    "    random_names = (nlist[:n])\n",
    "    print (random_names)\n",
    "    return"
   ]
  },
  {
   "cell_type": "code",
   "execution_count": 83,
   "metadata": {
    "collapsed": true
   },
   "outputs": [],
   "source": [
    "# Create a function that shuffles the list, takes a number of the random names from the beginning of the list,\n",
    "# and creates a full list of the fixed names from Jessie's list and the random names.\n",
    "\n",
    "def name_chickens_jessie(nlist):\n",
    "    # The number of names we'll need to randomly select\n",
    "    # The number of chickens minus the number of 'fixed' names from Jessie's list\n",
    "    num_names = n - len(jessie_list)\n",
    "    \n",
    "    random.shuffle(nlist)\n",
    "    random_names = (nlist[:num_names])\n",
    "    full_list = jessie_list + random_names\n",
    "    print (full_list)\n",
    "    return"
   ]
  },
  {
   "cell_type": "code",
   "execution_count": 89,
   "metadata": {
    "collapsed": false,
    "scrolled": true
   },
   "outputs": [
    {
     "name": "stdout",
     "output_type": "stream",
     "text": [
      "['Former Penguin', 'Betsy', 'Charlie', '& Featherywhite', 'Daisy Duck', 'Silky Boy', 'Dottie Kay', 'Cowie', 'Olive', 'Autumn', 'Lay Verne', 'Featherfluff', 'Black Betty', 'Roxanne', 'Coco', 'Gumdrop', 'Biscuit', 'Marigold', 'Iris', 'Panda', 'Peeper', 'Ava Chanel', 'Roberta', 'Ruggles', 'Skittles']\n"
     ]
    }
   ],
   "source": [
    "# Create a set of random names, selecting n random chicken names\n",
    "name_chickens(names_list)"
   ]
  },
  {
   "cell_type": "code",
   "execution_count": 86,
   "metadata": {
    "collapsed": false
   },
   "outputs": [
    {
     "name": "stdout",
     "output_type": "stream",
     "text": [
      "['Yellow', 'Cheep', 'Snowflake', 'Summer', 'Clover', 'Ginko', 'Snuggles', ' Rose', ' Freckles', ' Popcorn', ' Eggy Sue', ' Chipmunk Extra Toes', ' Sunshine', ' Junebug', ' Henrietta', ' Tom & Jerry', ' Tetrazzini', ' Larry', ' Meg', ' Star', ' Gladys & The Peeps', ' Pinky Pie', ' and Rosie', ' Mrs. Hughes', ' Astrid']\n"
     ]
    }
   ],
   "source": [
    "# Create a set of n names that includes jessie_list and random names\n",
    "name_chickens_jessie(names_list)"
   ]
  },
  {
   "cell_type": "code",
   "execution_count": 87,
   "metadata": {
    "collapsed": false
   },
   "outputs": [
    {
     "name": "stdout",
     "output_type": "stream",
     "text": [
      "[' Logan', ' Skitters', ' Farrah', ' Egger', ' Matilda', ' Robin', ' Phoebe', ' Edith', ' Honey & Butter', ' Biscuit', ' Rosie', ' Phoenix', ' Strider', ' Reba', ' Aflac', ' Vera', ' Margarita', ' Nutmeg', ' Scarlet', ' Vanilla', ' Delta', ' Henry', ' Pinecone', ' Ken', ' Nani']\n"
     ]
    }
   ],
   "source": [
    "# Rerun the 'name_chickens' function to get a new list of chicken names.\n",
    "name_chickens(names_list)"
   ]
  },
  {
   "cell_type": "code",
   "execution_count": null,
   "metadata": {
    "collapsed": true
   },
   "outputs": [],
   "source": []
  }
 ],
 "metadata": {
  "kernelspec": {
   "display_name": "Python 3",
   "language": "python",
   "name": "python3"
  },
  "language_info": {
   "codemirror_mode": {
    "name": "ipython",
    "version": 3
   },
   "file_extension": ".py",
   "mimetype": "text/x-python",
   "name": "python",
   "nbconvert_exporter": "python",
   "pygments_lexer": "ipython3",
   "version": "3.5.1"
  }
 },
 "nbformat": 4,
 "nbformat_minor": 0
}
